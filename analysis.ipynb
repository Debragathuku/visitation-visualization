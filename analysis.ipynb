{
 "cells": [
  {
   "cell_type": "code",
   "execution_count": null,
   "id": "5f6d2b62",
   "metadata": {},
   "outputs": [
    {
     "ename": "NameError",
     "evalue": "name 'df' is not defined",
     "output_type": "error",
     "traceback": [
      "\u001b[31m---------------------------------------------------------------------------\u001b[39m",
      "\u001b[31mNameError\u001b[39m                                 Traceback (most recent call last)",
      "\u001b[36mCell\u001b[39m\u001b[36m \u001b[39m\u001b[32mIn[2]\u001b[39m\u001b[32m, line 5\u001b[39m\n\u001b[32m      1\u001b[39m \u001b[38;5;66;03m# analysis.ipynb - Cell 2\u001b[39;00m\n\u001b[32m      2\u001b[39m \u001b[38;5;66;03m# Plot and save the bar chart\u001b[39;00m\n\u001b[32m      4\u001b[39m plt.figure(figsize=(\u001b[32m8\u001b[39m,\u001b[32m5\u001b[39m))\n\u001b[32m----> \u001b[39m\u001b[32m5\u001b[39m plt.bar(\u001b[43mdf\u001b[49m[\u001b[33m\"\u001b[39m\u001b[33mDay\u001b[39m\u001b[33m\"\u001b[39m], df[\u001b[33m\"\u001b[39m\u001b[33mDeliveries\u001b[39m\u001b[33m\"\u001b[39m])\n\u001b[32m      6\u001b[39m plt.title(\u001b[33m\"\u001b[39m\u001b[33mNumber of Deliveries per Day\u001b[39m\u001b[33m\"\u001b[39m)\n\u001b[32m      7\u001b[39m plt.xlabel(\u001b[33m\"\u001b[39m\u001b[33mDay\u001b[39m\u001b[33m\"\u001b[39m)\n",
      "\u001b[31mNameError\u001b[39m: name 'df' is not defined"
     ]
    },
    {
     "data": {
      "text/plain": [
       "<Figure size 800x500 with 0 Axes>"
      ]
     },
     "metadata": {},
     "output_type": "display_data"
    }
   ],
   "source": [
    "plt.figure(figsize=(8,5))\n",
    "plt.bar(df[\"Day\"], df[\"Deliveries\"], color=\"skyblue\")\n",
    "plt.title(\"Number of Deliveries per Day\")\n",
    "plt.xlabel(\"Day\")\n",
    "plt.ylabel(\"Deliveries\")\n",
    "plt.tight_layout()\n",
    "\n",
    "# Save the figure to a file\n",
    "plt.savefig(\"vis.png\", dpi=300, bbox_inches=\"tight\")\n",
    "\n",
    "plt.show()\n"
   ]
  },
  {
   "cell_type": "code",
   "execution_count": null,
   "id": "9cac5eaa",
   "metadata": {},
   "outputs": [
    {
     "name": "stderr",
     "output_type": "stream",
     "text": [
      "Matplotlib is building the font cache; this may take a moment.\n",
      "UsageError: unrecognized arguments: # ensures charts appear inline in the notebook\n"
     ]
    }
   ],
   "source": [
    "import pandas as pd\n",
    "import matplotlib.pyplot as plt\n",
    "\n",
    "# Create a small sample of delivery data\n",
    "days = [\"Monday\", \"Tuesday\", \"Wednesday\", \"Thursday\", \"Friday\"]\n",
    "deliveries = [10, 15, 7, 20, 12]\n",
    "\n",
    "# Put data into a DataFrame (a neat table)\n",
    "df = pd.DataFrame({\n",
    "    \"Day\": days,\n",
    "    \"Deliveries\": deliveries\n",
    "})\n",
    "\n",
    "# Show the table\n",
    "df\n"
   ]
  }
 ],
 "metadata": {
  "kernelspec": {
   "display_name": "delivery-venv",
   "language": "python",
   "name": "delivery-venv"
  },
  "language_info": {
   "codemirror_mode": {
    "name": "ipython",
    "version": 3
   },
   "file_extension": ".py",
   "mimetype": "text/x-python",
   "name": "python",
   "nbconvert_exporter": "python",
   "pygments_lexer": "ipython3",
   "version": "3.12.8"
  }
 },
 "nbformat": 4,
 "nbformat_minor": 5
}
